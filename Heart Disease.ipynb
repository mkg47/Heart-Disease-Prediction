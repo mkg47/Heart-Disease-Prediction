{
 "cells": [
  {
   "cell_type": "markdown",
   "source": [
    "# Importing Libraries\n"
   ],
   "metadata": {
    "id": "h_LYsRpjmfcy"
   }
  },
  {
   "cell_type": "code",
   "execution_count": 3,
   "source": [
    "import numpy as np\n",
    "import pandas as pd\n",
    "import matplotlib.pyplot as plt"
   ],
   "outputs": [],
   "metadata": {
    "executionInfo": {
     "elapsed": 621,
     "status": "ok",
     "timestamp": 1627062101353,
     "user": {
      "displayName": "Rahul Singha",
      "photoUrl": "https://lh3.googleusercontent.com/a-/AOh14GhwJ99Wsw26onDpMVUm1_LDkvGnCFvJtdL3lqWp3g=s64",
      "userId": "03623122824035689120"
     },
     "user_tz": -330
    },
    "id": "KJkVCp6YpxWD"
   }
  },
  {
   "cell_type": "markdown",
   "source": [
    "# Importing Dataset"
   ],
   "metadata": {
    "id": "Y55Hrn71mnca"
   }
  },
  {
   "cell_type": "code",
   "execution_count": 4,
   "source": [
    "df = pd.read_csv(\"heart.csv\")"
   ],
   "outputs": [],
   "metadata": {
    "executionInfo": {
     "elapsed": 64,
     "status": "ok",
     "timestamp": 1627062102178,
     "user": {
      "displayName": "Rahul Singha",
      "photoUrl": "https://lh3.googleusercontent.com/a-/AOh14GhwJ99Wsw26onDpMVUm1_LDkvGnCFvJtdL3lqWp3g=s64",
      "userId": "03623122824035689120"
     },
     "user_tz": -330
    },
    "id": "fMOoNcldp9-r"
   }
  },
  {
   "cell_type": "code",
   "execution_count": 48,
   "source": [
    "df.head(30)"
   ],
   "outputs": [
    {
     "output_type": "execute_result",
     "data": {
      "text/plain": [
       "    age  sex  cp  trestbps  chol  fbs  restecg  thalach  exang  oldpeak  \\\n",
       "0    63    1   3       145   233    1        0      150      0      2.3   \n",
       "1    37    1   2       130   250    0        1      187      0      3.5   \n",
       "2    41    0   1       130   204    0        0      172      0      1.4   \n",
       "3    56    1   1       120   236    0        1      178      0      0.8   \n",
       "4    57    0   0       120   354    0        1      163      1      0.6   \n",
       "5    57    1   0       140   192    0        1      148      0      0.4   \n",
       "6    56    0   1       140   294    0        0      153      0      1.3   \n",
       "7    44    1   1       120   263    0        1      173      0      0.0   \n",
       "8    52    1   2       172   199    1        1      162      0      0.5   \n",
       "9    57    1   2       150   168    0        1      174      0      1.6   \n",
       "10   54    1   0       140   239    0        1      160      0      1.2   \n",
       "11   48    0   2       130   275    0        1      139      0      0.2   \n",
       "12   49    1   1       130   266    0        1      171      0      0.6   \n",
       "13   64    1   3       110   211    0        0      144      1      1.8   \n",
       "14   58    0   3       150   283    1        0      162      0      1.0   \n",
       "15   50    0   2       120   219    0        1      158      0      1.6   \n",
       "16   58    0   2       120   340    0        1      172      0      0.0   \n",
       "17   66    0   3       150   226    0        1      114      0      2.6   \n",
       "18   43    1   0       150   247    0        1      171      0      1.5   \n",
       "19   69    0   3       140   239    0        1      151      0      1.8   \n",
       "20   59    1   0       135   234    0        1      161      0      0.5   \n",
       "21   44    1   2       130   233    0        1      179      1      0.4   \n",
       "22   42    1   0       140   226    0        1      178      0      0.0   \n",
       "23   61    1   2       150   243    1        1      137      1      1.0   \n",
       "24   40    1   3       140   199    0        1      178      1      1.4   \n",
       "25   71    0   1       160   302    0        1      162      0      0.4   \n",
       "26   59    1   2       150   212    1        1      157      0      1.6   \n",
       "27   51    1   2       110   175    0        1      123      0      0.6   \n",
       "28   65    0   2       140   417    1        0      157      0      0.8   \n",
       "29   53    1   2       130   197    1        0      152      0      1.2   \n",
       "\n",
       "    slope  ca  thal  target  \n",
       "0       0   0     1       1  \n",
       "1       0   0     2       1  \n",
       "2       2   0     2       1  \n",
       "3       2   0     2       1  \n",
       "4       2   0     2       1  \n",
       "5       1   0     1       1  \n",
       "6       1   0     2       1  \n",
       "7       2   0     3       1  \n",
       "8       2   0     3       1  \n",
       "9       2   0     2       1  \n",
       "10      2   0     2       1  \n",
       "11      2   0     2       1  \n",
       "12      2   0     2       1  \n",
       "13      1   0     2       1  \n",
       "14      2   0     2       1  \n",
       "15      1   0     2       1  \n",
       "16      2   0     2       1  \n",
       "17      0   0     2       1  \n",
       "18      2   0     2       1  \n",
       "19      2   2     2       1  \n",
       "20      1   0     3       1  \n",
       "21      2   0     2       1  \n",
       "22      2   0     2       1  \n",
       "23      1   0     2       1  \n",
       "24      2   0     3       1  \n",
       "25      2   2     2       1  \n",
       "26      2   0     2       1  \n",
       "27      2   0     2       1  \n",
       "28      2   1     2       1  \n",
       "29      0   0     2       1  "
      ],
      "text/html": [
       "<div>\n",
       "<style scoped>\n",
       "    .dataframe tbody tr th:only-of-type {\n",
       "        vertical-align: middle;\n",
       "    }\n",
       "\n",
       "    .dataframe tbody tr th {\n",
       "        vertical-align: top;\n",
       "    }\n",
       "\n",
       "    .dataframe thead th {\n",
       "        text-align: right;\n",
       "    }\n",
       "</style>\n",
       "<table border=\"1\" class=\"dataframe\">\n",
       "  <thead>\n",
       "    <tr style=\"text-align: right;\">\n",
       "      <th></th>\n",
       "      <th>age</th>\n",
       "      <th>sex</th>\n",
       "      <th>cp</th>\n",
       "      <th>trestbps</th>\n",
       "      <th>chol</th>\n",
       "      <th>fbs</th>\n",
       "      <th>restecg</th>\n",
       "      <th>thalach</th>\n",
       "      <th>exang</th>\n",
       "      <th>oldpeak</th>\n",
       "      <th>slope</th>\n",
       "      <th>ca</th>\n",
       "      <th>thal</th>\n",
       "      <th>target</th>\n",
       "    </tr>\n",
       "  </thead>\n",
       "  <tbody>\n",
       "    <tr>\n",
       "      <th>0</th>\n",
       "      <td>63</td>\n",
       "      <td>1</td>\n",
       "      <td>3</td>\n",
       "      <td>145</td>\n",
       "      <td>233</td>\n",
       "      <td>1</td>\n",
       "      <td>0</td>\n",
       "      <td>150</td>\n",
       "      <td>0</td>\n",
       "      <td>2.3</td>\n",
       "      <td>0</td>\n",
       "      <td>0</td>\n",
       "      <td>1</td>\n",
       "      <td>1</td>\n",
       "    </tr>\n",
       "    <tr>\n",
       "      <th>1</th>\n",
       "      <td>37</td>\n",
       "      <td>1</td>\n",
       "      <td>2</td>\n",
       "      <td>130</td>\n",
       "      <td>250</td>\n",
       "      <td>0</td>\n",
       "      <td>1</td>\n",
       "      <td>187</td>\n",
       "      <td>0</td>\n",
       "      <td>3.5</td>\n",
       "      <td>0</td>\n",
       "      <td>0</td>\n",
       "      <td>2</td>\n",
       "      <td>1</td>\n",
       "    </tr>\n",
       "    <tr>\n",
       "      <th>2</th>\n",
       "      <td>41</td>\n",
       "      <td>0</td>\n",
       "      <td>1</td>\n",
       "      <td>130</td>\n",
       "      <td>204</td>\n",
       "      <td>0</td>\n",
       "      <td>0</td>\n",
       "      <td>172</td>\n",
       "      <td>0</td>\n",
       "      <td>1.4</td>\n",
       "      <td>2</td>\n",
       "      <td>0</td>\n",
       "      <td>2</td>\n",
       "      <td>1</td>\n",
       "    </tr>\n",
       "    <tr>\n",
       "      <th>3</th>\n",
       "      <td>56</td>\n",
       "      <td>1</td>\n",
       "      <td>1</td>\n",
       "      <td>120</td>\n",
       "      <td>236</td>\n",
       "      <td>0</td>\n",
       "      <td>1</td>\n",
       "      <td>178</td>\n",
       "      <td>0</td>\n",
       "      <td>0.8</td>\n",
       "      <td>2</td>\n",
       "      <td>0</td>\n",
       "      <td>2</td>\n",
       "      <td>1</td>\n",
       "    </tr>\n",
       "    <tr>\n",
       "      <th>4</th>\n",
       "      <td>57</td>\n",
       "      <td>0</td>\n",
       "      <td>0</td>\n",
       "      <td>120</td>\n",
       "      <td>354</td>\n",
       "      <td>0</td>\n",
       "      <td>1</td>\n",
       "      <td>163</td>\n",
       "      <td>1</td>\n",
       "      <td>0.6</td>\n",
       "      <td>2</td>\n",
       "      <td>0</td>\n",
       "      <td>2</td>\n",
       "      <td>1</td>\n",
       "    </tr>\n",
       "    <tr>\n",
       "      <th>5</th>\n",
       "      <td>57</td>\n",
       "      <td>1</td>\n",
       "      <td>0</td>\n",
       "      <td>140</td>\n",
       "      <td>192</td>\n",
       "      <td>0</td>\n",
       "      <td>1</td>\n",
       "      <td>148</td>\n",
       "      <td>0</td>\n",
       "      <td>0.4</td>\n",
       "      <td>1</td>\n",
       "      <td>0</td>\n",
       "      <td>1</td>\n",
       "      <td>1</td>\n",
       "    </tr>\n",
       "    <tr>\n",
       "      <th>6</th>\n",
       "      <td>56</td>\n",
       "      <td>0</td>\n",
       "      <td>1</td>\n",
       "      <td>140</td>\n",
       "      <td>294</td>\n",
       "      <td>0</td>\n",
       "      <td>0</td>\n",
       "      <td>153</td>\n",
       "      <td>0</td>\n",
       "      <td>1.3</td>\n",
       "      <td>1</td>\n",
       "      <td>0</td>\n",
       "      <td>2</td>\n",
       "      <td>1</td>\n",
       "    </tr>\n",
       "    <tr>\n",
       "      <th>7</th>\n",
       "      <td>44</td>\n",
       "      <td>1</td>\n",
       "      <td>1</td>\n",
       "      <td>120</td>\n",
       "      <td>263</td>\n",
       "      <td>0</td>\n",
       "      <td>1</td>\n",
       "      <td>173</td>\n",
       "      <td>0</td>\n",
       "      <td>0.0</td>\n",
       "      <td>2</td>\n",
       "      <td>0</td>\n",
       "      <td>3</td>\n",
       "      <td>1</td>\n",
       "    </tr>\n",
       "    <tr>\n",
       "      <th>8</th>\n",
       "      <td>52</td>\n",
       "      <td>1</td>\n",
       "      <td>2</td>\n",
       "      <td>172</td>\n",
       "      <td>199</td>\n",
       "      <td>1</td>\n",
       "      <td>1</td>\n",
       "      <td>162</td>\n",
       "      <td>0</td>\n",
       "      <td>0.5</td>\n",
       "      <td>2</td>\n",
       "      <td>0</td>\n",
       "      <td>3</td>\n",
       "      <td>1</td>\n",
       "    </tr>\n",
       "    <tr>\n",
       "      <th>9</th>\n",
       "      <td>57</td>\n",
       "      <td>1</td>\n",
       "      <td>2</td>\n",
       "      <td>150</td>\n",
       "      <td>168</td>\n",
       "      <td>0</td>\n",
       "      <td>1</td>\n",
       "      <td>174</td>\n",
       "      <td>0</td>\n",
       "      <td>1.6</td>\n",
       "      <td>2</td>\n",
       "      <td>0</td>\n",
       "      <td>2</td>\n",
       "      <td>1</td>\n",
       "    </tr>\n",
       "    <tr>\n",
       "      <th>10</th>\n",
       "      <td>54</td>\n",
       "      <td>1</td>\n",
       "      <td>0</td>\n",
       "      <td>140</td>\n",
       "      <td>239</td>\n",
       "      <td>0</td>\n",
       "      <td>1</td>\n",
       "      <td>160</td>\n",
       "      <td>0</td>\n",
       "      <td>1.2</td>\n",
       "      <td>2</td>\n",
       "      <td>0</td>\n",
       "      <td>2</td>\n",
       "      <td>1</td>\n",
       "    </tr>\n",
       "    <tr>\n",
       "      <th>11</th>\n",
       "      <td>48</td>\n",
       "      <td>0</td>\n",
       "      <td>2</td>\n",
       "      <td>130</td>\n",
       "      <td>275</td>\n",
       "      <td>0</td>\n",
       "      <td>1</td>\n",
       "      <td>139</td>\n",
       "      <td>0</td>\n",
       "      <td>0.2</td>\n",
       "      <td>2</td>\n",
       "      <td>0</td>\n",
       "      <td>2</td>\n",
       "      <td>1</td>\n",
       "    </tr>\n",
       "    <tr>\n",
       "      <th>12</th>\n",
       "      <td>49</td>\n",
       "      <td>1</td>\n",
       "      <td>1</td>\n",
       "      <td>130</td>\n",
       "      <td>266</td>\n",
       "      <td>0</td>\n",
       "      <td>1</td>\n",
       "      <td>171</td>\n",
       "      <td>0</td>\n",
       "      <td>0.6</td>\n",
       "      <td>2</td>\n",
       "      <td>0</td>\n",
       "      <td>2</td>\n",
       "      <td>1</td>\n",
       "    </tr>\n",
       "    <tr>\n",
       "      <th>13</th>\n",
       "      <td>64</td>\n",
       "      <td>1</td>\n",
       "      <td>3</td>\n",
       "      <td>110</td>\n",
       "      <td>211</td>\n",
       "      <td>0</td>\n",
       "      <td>0</td>\n",
       "      <td>144</td>\n",
       "      <td>1</td>\n",
       "      <td>1.8</td>\n",
       "      <td>1</td>\n",
       "      <td>0</td>\n",
       "      <td>2</td>\n",
       "      <td>1</td>\n",
       "    </tr>\n",
       "    <tr>\n",
       "      <th>14</th>\n",
       "      <td>58</td>\n",
       "      <td>0</td>\n",
       "      <td>3</td>\n",
       "      <td>150</td>\n",
       "      <td>283</td>\n",
       "      <td>1</td>\n",
       "      <td>0</td>\n",
       "      <td>162</td>\n",
       "      <td>0</td>\n",
       "      <td>1.0</td>\n",
       "      <td>2</td>\n",
       "      <td>0</td>\n",
       "      <td>2</td>\n",
       "      <td>1</td>\n",
       "    </tr>\n",
       "    <tr>\n",
       "      <th>15</th>\n",
       "      <td>50</td>\n",
       "      <td>0</td>\n",
       "      <td>2</td>\n",
       "      <td>120</td>\n",
       "      <td>219</td>\n",
       "      <td>0</td>\n",
       "      <td>1</td>\n",
       "      <td>158</td>\n",
       "      <td>0</td>\n",
       "      <td>1.6</td>\n",
       "      <td>1</td>\n",
       "      <td>0</td>\n",
       "      <td>2</td>\n",
       "      <td>1</td>\n",
       "    </tr>\n",
       "    <tr>\n",
       "      <th>16</th>\n",
       "      <td>58</td>\n",
       "      <td>0</td>\n",
       "      <td>2</td>\n",
       "      <td>120</td>\n",
       "      <td>340</td>\n",
       "      <td>0</td>\n",
       "      <td>1</td>\n",
       "      <td>172</td>\n",
       "      <td>0</td>\n",
       "      <td>0.0</td>\n",
       "      <td>2</td>\n",
       "      <td>0</td>\n",
       "      <td>2</td>\n",
       "      <td>1</td>\n",
       "    </tr>\n",
       "    <tr>\n",
       "      <th>17</th>\n",
       "      <td>66</td>\n",
       "      <td>0</td>\n",
       "      <td>3</td>\n",
       "      <td>150</td>\n",
       "      <td>226</td>\n",
       "      <td>0</td>\n",
       "      <td>1</td>\n",
       "      <td>114</td>\n",
       "      <td>0</td>\n",
       "      <td>2.6</td>\n",
       "      <td>0</td>\n",
       "      <td>0</td>\n",
       "      <td>2</td>\n",
       "      <td>1</td>\n",
       "    </tr>\n",
       "    <tr>\n",
       "      <th>18</th>\n",
       "      <td>43</td>\n",
       "      <td>1</td>\n",
       "      <td>0</td>\n",
       "      <td>150</td>\n",
       "      <td>247</td>\n",
       "      <td>0</td>\n",
       "      <td>1</td>\n",
       "      <td>171</td>\n",
       "      <td>0</td>\n",
       "      <td>1.5</td>\n",
       "      <td>2</td>\n",
       "      <td>0</td>\n",
       "      <td>2</td>\n",
       "      <td>1</td>\n",
       "    </tr>\n",
       "    <tr>\n",
       "      <th>19</th>\n",
       "      <td>69</td>\n",
       "      <td>0</td>\n",
       "      <td>3</td>\n",
       "      <td>140</td>\n",
       "      <td>239</td>\n",
       "      <td>0</td>\n",
       "      <td>1</td>\n",
       "      <td>151</td>\n",
       "      <td>0</td>\n",
       "      <td>1.8</td>\n",
       "      <td>2</td>\n",
       "      <td>2</td>\n",
       "      <td>2</td>\n",
       "      <td>1</td>\n",
       "    </tr>\n",
       "    <tr>\n",
       "      <th>20</th>\n",
       "      <td>59</td>\n",
       "      <td>1</td>\n",
       "      <td>0</td>\n",
       "      <td>135</td>\n",
       "      <td>234</td>\n",
       "      <td>0</td>\n",
       "      <td>1</td>\n",
       "      <td>161</td>\n",
       "      <td>0</td>\n",
       "      <td>0.5</td>\n",
       "      <td>1</td>\n",
       "      <td>0</td>\n",
       "      <td>3</td>\n",
       "      <td>1</td>\n",
       "    </tr>\n",
       "    <tr>\n",
       "      <th>21</th>\n",
       "      <td>44</td>\n",
       "      <td>1</td>\n",
       "      <td>2</td>\n",
       "      <td>130</td>\n",
       "      <td>233</td>\n",
       "      <td>0</td>\n",
       "      <td>1</td>\n",
       "      <td>179</td>\n",
       "      <td>1</td>\n",
       "      <td>0.4</td>\n",
       "      <td>2</td>\n",
       "      <td>0</td>\n",
       "      <td>2</td>\n",
       "      <td>1</td>\n",
       "    </tr>\n",
       "    <tr>\n",
       "      <th>22</th>\n",
       "      <td>42</td>\n",
       "      <td>1</td>\n",
       "      <td>0</td>\n",
       "      <td>140</td>\n",
       "      <td>226</td>\n",
       "      <td>0</td>\n",
       "      <td>1</td>\n",
       "      <td>178</td>\n",
       "      <td>0</td>\n",
       "      <td>0.0</td>\n",
       "      <td>2</td>\n",
       "      <td>0</td>\n",
       "      <td>2</td>\n",
       "      <td>1</td>\n",
       "    </tr>\n",
       "    <tr>\n",
       "      <th>23</th>\n",
       "      <td>61</td>\n",
       "      <td>1</td>\n",
       "      <td>2</td>\n",
       "      <td>150</td>\n",
       "      <td>243</td>\n",
       "      <td>1</td>\n",
       "      <td>1</td>\n",
       "      <td>137</td>\n",
       "      <td>1</td>\n",
       "      <td>1.0</td>\n",
       "      <td>1</td>\n",
       "      <td>0</td>\n",
       "      <td>2</td>\n",
       "      <td>1</td>\n",
       "    </tr>\n",
       "    <tr>\n",
       "      <th>24</th>\n",
       "      <td>40</td>\n",
       "      <td>1</td>\n",
       "      <td>3</td>\n",
       "      <td>140</td>\n",
       "      <td>199</td>\n",
       "      <td>0</td>\n",
       "      <td>1</td>\n",
       "      <td>178</td>\n",
       "      <td>1</td>\n",
       "      <td>1.4</td>\n",
       "      <td>2</td>\n",
       "      <td>0</td>\n",
       "      <td>3</td>\n",
       "      <td>1</td>\n",
       "    </tr>\n",
       "    <tr>\n",
       "      <th>25</th>\n",
       "      <td>71</td>\n",
       "      <td>0</td>\n",
       "      <td>1</td>\n",
       "      <td>160</td>\n",
       "      <td>302</td>\n",
       "      <td>0</td>\n",
       "      <td>1</td>\n",
       "      <td>162</td>\n",
       "      <td>0</td>\n",
       "      <td>0.4</td>\n",
       "      <td>2</td>\n",
       "      <td>2</td>\n",
       "      <td>2</td>\n",
       "      <td>1</td>\n",
       "    </tr>\n",
       "    <tr>\n",
       "      <th>26</th>\n",
       "      <td>59</td>\n",
       "      <td>1</td>\n",
       "      <td>2</td>\n",
       "      <td>150</td>\n",
       "      <td>212</td>\n",
       "      <td>1</td>\n",
       "      <td>1</td>\n",
       "      <td>157</td>\n",
       "      <td>0</td>\n",
       "      <td>1.6</td>\n",
       "      <td>2</td>\n",
       "      <td>0</td>\n",
       "      <td>2</td>\n",
       "      <td>1</td>\n",
       "    </tr>\n",
       "    <tr>\n",
       "      <th>27</th>\n",
       "      <td>51</td>\n",
       "      <td>1</td>\n",
       "      <td>2</td>\n",
       "      <td>110</td>\n",
       "      <td>175</td>\n",
       "      <td>0</td>\n",
       "      <td>1</td>\n",
       "      <td>123</td>\n",
       "      <td>0</td>\n",
       "      <td>0.6</td>\n",
       "      <td>2</td>\n",
       "      <td>0</td>\n",
       "      <td>2</td>\n",
       "      <td>1</td>\n",
       "    </tr>\n",
       "    <tr>\n",
       "      <th>28</th>\n",
       "      <td>65</td>\n",
       "      <td>0</td>\n",
       "      <td>2</td>\n",
       "      <td>140</td>\n",
       "      <td>417</td>\n",
       "      <td>1</td>\n",
       "      <td>0</td>\n",
       "      <td>157</td>\n",
       "      <td>0</td>\n",
       "      <td>0.8</td>\n",
       "      <td>2</td>\n",
       "      <td>1</td>\n",
       "      <td>2</td>\n",
       "      <td>1</td>\n",
       "    </tr>\n",
       "    <tr>\n",
       "      <th>29</th>\n",
       "      <td>53</td>\n",
       "      <td>1</td>\n",
       "      <td>2</td>\n",
       "      <td>130</td>\n",
       "      <td>197</td>\n",
       "      <td>1</td>\n",
       "      <td>0</td>\n",
       "      <td>152</td>\n",
       "      <td>0</td>\n",
       "      <td>1.2</td>\n",
       "      <td>0</td>\n",
       "      <td>0</td>\n",
       "      <td>2</td>\n",
       "      <td>1</td>\n",
       "    </tr>\n",
       "  </tbody>\n",
       "</table>\n",
       "</div>"
      ]
     },
     "metadata": {},
     "execution_count": 48
    }
   ],
   "metadata": {
    "colab": {
     "base_uri": "https://localhost:8080/",
     "height": 204
    },
    "executionInfo": {
     "elapsed": 62,
     "status": "ok",
     "timestamp": 1627062102179,
     "user": {
      "displayName": "Rahul Singha",
      "photoUrl": "https://lh3.googleusercontent.com/a-/AOh14GhwJ99Wsw26onDpMVUm1_LDkvGnCFvJtdL3lqWp3g=s64",
      "userId": "03623122824035689120"
     },
     "user_tz": -330
    },
    "id": "mPIwNo8-qHb1",
    "outputId": "19f78c69-5b16-4918-b75a-e39ddf9dfc15"
   }
  },
  {
   "cell_type": "code",
   "execution_count": 6,
   "source": [
    "df.columns"
   ],
   "outputs": [
    {
     "output_type": "execute_result",
     "data": {
      "text/plain": [
       "Index(['age', 'sex', 'cp', 'trestbps', 'chol', 'fbs', 'restecg', 'thalach',\n",
       "       'exang', 'oldpeak', 'slope', 'ca', 'thal', 'target'],\n",
       "      dtype='object')"
      ]
     },
     "metadata": {},
     "execution_count": 6
    }
   ],
   "metadata": {
    "colab": {
     "base_uri": "https://localhost:8080/"
    },
    "executionInfo": {
     "elapsed": 56,
     "status": "ok",
     "timestamp": 1627062102179,
     "user": {
      "displayName": "Rahul Singha",
      "photoUrl": "https://lh3.googleusercontent.com/a-/AOh14GhwJ99Wsw26onDpMVUm1_LDkvGnCFvJtdL3lqWp3g=s64",
      "userId": "03623122824035689120"
     },
     "user_tz": -330
    },
    "id": "tNER0USEqSHD",
    "outputId": "a55c6f16-afa1-4798-eace-dfe9ec61d0ee"
   }
  },
  {
   "cell_type": "code",
   "execution_count": 7,
   "source": [
    "max(df[\"chol\"])"
   ],
   "outputs": [
    {
     "output_type": "execute_result",
     "data": {
      "text/plain": [
       "564"
      ]
     },
     "metadata": {},
     "execution_count": 7
    }
   ],
   "metadata": {}
  },
  {
   "cell_type": "code",
   "execution_count": 8,
   "source": [
    "#Spliting Features and Dependent variables\n",
    "X = df.iloc[:, :-1]\n",
    "y = df.iloc[:, -1]"
   ],
   "outputs": [],
   "metadata": {
    "executionInfo": {
     "elapsed": 39,
     "status": "ok",
     "timestamp": 1627062102179,
     "user": {
      "displayName": "Rahul Singha",
      "photoUrl": "https://lh3.googleusercontent.com/a-/AOh14GhwJ99Wsw26onDpMVUm1_LDkvGnCFvJtdL3lqWp3g=s64",
      "userId": "03623122824035689120"
     },
     "user_tz": -330
    },
    "id": "3Kk3aqx3qZCD"
   }
  },
  {
   "cell_type": "code",
   "execution_count": 9,
   "source": [
    "X.head()"
   ],
   "outputs": [
    {
     "output_type": "execute_result",
     "data": {
      "text/plain": [
       "   age  sex  cp  trestbps  chol  fbs  restecg  thalach  exang  oldpeak  slope  \\\n",
       "0   63    1   3       145   233    1        0      150      0      2.3      0   \n",
       "1   37    1   2       130   250    0        1      187      0      3.5      0   \n",
       "2   41    0   1       130   204    0        0      172      0      1.4      2   \n",
       "3   56    1   1       120   236    0        1      178      0      0.8      2   \n",
       "4   57    0   0       120   354    0        1      163      1      0.6      2   \n",
       "\n",
       "   ca  thal  \n",
       "0   0     1  \n",
       "1   0     2  \n",
       "2   0     2  \n",
       "3   0     2  \n",
       "4   0     2  "
      ],
      "text/html": [
       "<div>\n",
       "<style scoped>\n",
       "    .dataframe tbody tr th:only-of-type {\n",
       "        vertical-align: middle;\n",
       "    }\n",
       "\n",
       "    .dataframe tbody tr th {\n",
       "        vertical-align: top;\n",
       "    }\n",
       "\n",
       "    .dataframe thead th {\n",
       "        text-align: right;\n",
       "    }\n",
       "</style>\n",
       "<table border=\"1\" class=\"dataframe\">\n",
       "  <thead>\n",
       "    <tr style=\"text-align: right;\">\n",
       "      <th></th>\n",
       "      <th>age</th>\n",
       "      <th>sex</th>\n",
       "      <th>cp</th>\n",
       "      <th>trestbps</th>\n",
       "      <th>chol</th>\n",
       "      <th>fbs</th>\n",
       "      <th>restecg</th>\n",
       "      <th>thalach</th>\n",
       "      <th>exang</th>\n",
       "      <th>oldpeak</th>\n",
       "      <th>slope</th>\n",
       "      <th>ca</th>\n",
       "      <th>thal</th>\n",
       "    </tr>\n",
       "  </thead>\n",
       "  <tbody>\n",
       "    <tr>\n",
       "      <th>0</th>\n",
       "      <td>63</td>\n",
       "      <td>1</td>\n",
       "      <td>3</td>\n",
       "      <td>145</td>\n",
       "      <td>233</td>\n",
       "      <td>1</td>\n",
       "      <td>0</td>\n",
       "      <td>150</td>\n",
       "      <td>0</td>\n",
       "      <td>2.3</td>\n",
       "      <td>0</td>\n",
       "      <td>0</td>\n",
       "      <td>1</td>\n",
       "    </tr>\n",
       "    <tr>\n",
       "      <th>1</th>\n",
       "      <td>37</td>\n",
       "      <td>1</td>\n",
       "      <td>2</td>\n",
       "      <td>130</td>\n",
       "      <td>250</td>\n",
       "      <td>0</td>\n",
       "      <td>1</td>\n",
       "      <td>187</td>\n",
       "      <td>0</td>\n",
       "      <td>3.5</td>\n",
       "      <td>0</td>\n",
       "      <td>0</td>\n",
       "      <td>2</td>\n",
       "    </tr>\n",
       "    <tr>\n",
       "      <th>2</th>\n",
       "      <td>41</td>\n",
       "      <td>0</td>\n",
       "      <td>1</td>\n",
       "      <td>130</td>\n",
       "      <td>204</td>\n",
       "      <td>0</td>\n",
       "      <td>0</td>\n",
       "      <td>172</td>\n",
       "      <td>0</td>\n",
       "      <td>1.4</td>\n",
       "      <td>2</td>\n",
       "      <td>0</td>\n",
       "      <td>2</td>\n",
       "    </tr>\n",
       "    <tr>\n",
       "      <th>3</th>\n",
       "      <td>56</td>\n",
       "      <td>1</td>\n",
       "      <td>1</td>\n",
       "      <td>120</td>\n",
       "      <td>236</td>\n",
       "      <td>0</td>\n",
       "      <td>1</td>\n",
       "      <td>178</td>\n",
       "      <td>0</td>\n",
       "      <td>0.8</td>\n",
       "      <td>2</td>\n",
       "      <td>0</td>\n",
       "      <td>2</td>\n",
       "    </tr>\n",
       "    <tr>\n",
       "      <th>4</th>\n",
       "      <td>57</td>\n",
       "      <td>0</td>\n",
       "      <td>0</td>\n",
       "      <td>120</td>\n",
       "      <td>354</td>\n",
       "      <td>0</td>\n",
       "      <td>1</td>\n",
       "      <td>163</td>\n",
       "      <td>1</td>\n",
       "      <td>0.6</td>\n",
       "      <td>2</td>\n",
       "      <td>0</td>\n",
       "      <td>2</td>\n",
       "    </tr>\n",
       "  </tbody>\n",
       "</table>\n",
       "</div>"
      ]
     },
     "metadata": {},
     "execution_count": 9
    }
   ],
   "metadata": {
    "colab": {
     "base_uri": "https://localhost:8080/",
     "height": 204
    },
    "executionInfo": {
     "elapsed": 39,
     "status": "ok",
     "timestamp": 1627062102180,
     "user": {
      "displayName": "Rahul Singha",
      "photoUrl": "https://lh3.googleusercontent.com/a-/AOh14GhwJ99Wsw26onDpMVUm1_LDkvGnCFvJtdL3lqWp3g=s64",
      "userId": "03623122824035689120"
     },
     "user_tz": -330
    },
    "id": "FGEZX985qmxS",
    "outputId": "ad90efc7-32d0-4d2d-f3aa-1dff0764fed9"
   }
  },
  {
   "cell_type": "code",
   "execution_count": 10,
   "source": [
    "X.columns"
   ],
   "outputs": [
    {
     "output_type": "execute_result",
     "data": {
      "text/plain": [
       "Index(['age', 'sex', 'cp', 'trestbps', 'chol', 'fbs', 'restecg', 'thalach',\n",
       "       'exang', 'oldpeak', 'slope', 'ca', 'thal'],\n",
       "      dtype='object')"
      ]
     },
     "metadata": {},
     "execution_count": 10
    }
   ],
   "metadata": {}
  },
  {
   "cell_type": "markdown",
   "source": [
    "# Visualization of Data"
   ],
   "metadata": {
    "id": "6jRk3QjRm_Ef"
   }
  },
  {
   "cell_type": "code",
   "execution_count": 11,
   "source": [
    "#Finding Correlation between Features and dropping any features whose correlation is high (>0.8)\n",
    "import seaborn as sns\n",
    "plt.rcParams['figure.figsize'] = (15.0, 10.0)\n",
    "dataplot = sns.heatmap(X.corr(), cmap=\"YlGnBu\", annot=True)\n",
    "plt.show()"
   ],
   "outputs": [
    {
     "output_type": "display_data",
     "data": {
      "text/plain": [
       "<Figure size 1080x720 with 2 Axes>"
      ],
      "image/png": "[encoded data removed]"
     },
     "metadata": {
      "needs_background": "light"
     }
    }
   ],
   "metadata": {
    "colab": {
     "base_uri": "https://localhost:8080/",
     "height": 595
    },
    "executionInfo": {
     "elapsed": 2855,
     "status": "ok",
     "timestamp": 1627062104997,
     "user": {
      "displayName": "Rahul Singha",
      "photoUrl": "https://lh3.googleusercontent.com/a-/AOh14GhwJ99Wsw26onDpMVUm1_LDkvGnCFvJtdL3lqWp3g=s64",
      "userId": "03623122824035689120"
     },
     "user_tz": -330
    },
    "id": "UgzMUm9vqnpk",
    "outputId": "4ffcd486-9d5d-4061-cdc2-c1fe915c7c40"
   }
  },
  {
   "cell_type": "markdown",
   "source": [
    "### Since we find the correlation between any two columns is less than 0.8, we are not dropping any columns\n"
   ],
   "metadata": {
    "id": "_j3O1zS_xrpS"
   }
  },
  {
   "cell_type": "code",
   "execution_count": 12,
   "source": [
    "print(y.value_counts())\n",
    "countNoDisease = len(df[df.target == 0])\n",
    "countHaveDisease = len(df[df.target == 1])\n",
    "\n",
    "print(\"Percentage of Patients not having Heart Disease: {:.2f}%\".format((countNoDisease / (len(df.target))*100)))\n",
    "print(\"Percentage of Patients having Heart Disease: {:.2f}%\".format((countHaveDisease / (len(df.target))*100)))"
   ],
   "outputs": [
    {
     "output_type": "stream",
     "name": "stdout",
     "text": [
      "1    165\n",
      "0    138\n",
      "Name: target, dtype: int64\n",
      "Percentage of Patients not having Heart Disease: 45.54%\n",
      "Percentage of Patients having Heart Disease: 54.46%\n"
     ]
    }
   ],
   "metadata": {
    "colab": {
     "base_uri": "https://localhost:8080/"
    },
    "executionInfo": {
     "elapsed": 57,
     "status": "ok",
     "timestamp": 1627062104998,
     "user": {
      "displayName": "Rahul Singha",
      "photoUrl": "https://lh3.googleusercontent.com/a-/AOh14GhwJ99Wsw26onDpMVUm1_LDkvGnCFvJtdL3lqWp3g=s64",
      "userId": "03623122824035689120"
     },
     "user_tz": -330
    },
    "id": "KpaT1RKQrWNR",
    "outputId": "95f002ce-7fd0-40e1-ae47-8f68d60954ac"
   }
  },
  {
   "cell_type": "code",
   "execution_count": 13,
   "source": [
    "plt.rcParams['figure.figsize'] = (5.0, 5.0)\n",
    "sns.countplot(x=\"target\", data=df, palette=\"YlGnBu\")\n",
    "plt.show()"
   ],
   "outputs": [
    {
     "output_type": "display_data",
     "data": {
      "text/plain": [
       "<Figure size 360x360 with 1 Axes>"
      ],
      "image/png": "[encoded data removed]"
     },
     "metadata": {
      "needs_background": "light"
     }
    }
   ],
   "metadata": {
    "colab": {
     "base_uri": "https://localhost:8080/",
     "height": 334
    },
    "executionInfo": {
     "elapsed": 38,
     "status": "ok",
     "timestamp": 1627062104998,
     "user": {
      "displayName": "Rahul Singha",
      "photoUrl": "https://lh3.googleusercontent.com/a-/AOh14GhwJ99Wsw26onDpMVUm1_LDkvGnCFvJtdL3lqWp3g=s64",
      "userId": "03623122824035689120"
     },
     "user_tz": -330
    },
    "id": "JNevXTRcv4X-",
    "outputId": "51353166-2e83-4ecc-fe67-d4e2f84a1e0a"
   }
  },
  {
   "cell_type": "markdown",
   "source": [
    "##Plotting the variation of heart disease with age"
   ],
   "metadata": {
    "id": "NiSIMiMWoU-r"
   }
  },
  {
   "cell_type": "code",
   "execution_count": 14,
   "source": [
    "pd.crosstab(df.age,df.target).plot(kind=\"bar\",figsize=(20,6),color=['#ff0000','#0B4CF2' ])\n",
    "plt.title('Heart Disease Frequency for Ages')\n",
    "plt.legend(['Having Heart Disease', 'Not Having Heart Disease'])\n",
    "plt.xlabel('Age')\n",
    "plt.ylabel('Frequency')\n",
    "plt.savefig('heartDiseaseAndAges.png')\n",
    "plt.show()\n",
    "\n"
   ],
   "outputs": [
    {
     "output_type": "display_data",
     "data": {
      "text/plain": [
       "<Figure size 1440x432 with 1 Axes>"
      ],
      "image/png": "[encoded data removed]"
     },
     "metadata": {
      "needs_background": "light"
     }
    }
   ],
   "metadata": {
    "colab": {
     "base_uri": "https://localhost:8080/",
     "height": 357
    },
    "executionInfo": {
     "elapsed": 1252,
     "status": "ok",
     "timestamp": 1627062106214,
     "user": {
      "displayName": "Rahul Singha",
      "photoUrl": "https://lh3.googleusercontent.com/a-/AOh14GhwJ99Wsw26onDpMVUm1_LDkvGnCFvJtdL3lqWp3g=s64",
      "userId": "03623122824035689120"
     },
     "user_tz": -330
    },
    "id": "wDq0zdkewjqU",
    "outputId": "7f4a832c-ec3d-4eed-999f-dcf6032a06e3"
   }
  },
  {
   "cell_type": "markdown",
   "source": [
    "## Plotting the variation of heart disease with age and maximum Heart Rate"
   ],
   "metadata": {
    "id": "Q69UNsgtodoC"
   }
  },
  {
   "cell_type": "code",
   "execution_count": 15,
   "source": [
    "plt.scatter(x=df.age[df.target==1], y=df.thalach[(df.target==1)], c=\"red\")\n",
    "plt.scatter(x=df.age[df.target==0], y=df.thalach[(df.target==0)])\n",
    "plt.legend([\"Disease\", \"Not Disease\"])\n",
    "plt.xlabel(\"Age\")\n",
    "plt.ylabel(\"Maximum Heart Rate\")\n",
    "plt.show()"
   ],
   "outputs": [
    {
     "output_type": "display_data",
     "data": {
      "text/plain": [
       "<Figure size 360x360 with 1 Axes>"
      ],
      "image/png": "[encoded data removed]"
     },
     "metadata": {
      "needs_background": "light"
     }
    }
   ],
   "metadata": {
    "colab": {
     "base_uri": "https://localhost:8080/",
     "height": 334
    },
    "executionInfo": {
     "elapsed": 102,
     "status": "ok",
     "timestamp": 1627062106214,
     "user": {
      "displayName": "Rahul Singha",
      "photoUrl": "https://lh3.googleusercontent.com/a-/AOh14GhwJ99Wsw26onDpMVUm1_LDkvGnCFvJtdL3lqWp3g=s64",
      "userId": "03623122824035689120"
     },
     "user_tz": -330
    },
    "id": "FAx6flXMJ7pW",
    "outputId": "23d81d95-c7fe-4e7c-d9ac-b2615adde473"
   }
  },
  {
   "cell_type": "markdown",
   "source": [
    "#Training and Testing of regression Models"
   ],
   "metadata": {
    "id": "ytYyjZ5-o046"
   }
  },
  {
   "cell_type": "markdown",
   "source": [
    "###Spliting the data into Training and Testing data"
   ],
   "metadata": {
    "id": "_s_2gJA8sSiD"
   }
  },
  {
   "cell_type": "code",
   "execution_count": 16,
   "source": [
    "from sklearn.model_selection import train_test_split\n",
    "X=X.values\n",
    "y=y.values\n",
    "X_train, X_test, y_train, y_test = train_test_split(X, y, test_size = 0.2, random_state = 0)"
   ],
   "outputs": [],
   "metadata": {
    "executionInfo": {
     "elapsed": 97,
     "status": "ok",
     "timestamp": 1627062106214,
     "user": {
      "displayName": "Rahul Singha",
      "photoUrl": "https://lh3.googleusercontent.com/a-/AOh14GhwJ99Wsw26onDpMVUm1_LDkvGnCFvJtdL3lqWp3g=s64",
      "userId": "03623122824035689120"
     },
     "user_tz": -330
    },
    "id": "cNnfhsidpucJ"
   }
  },
  {
   "cell_type": "markdown",
   "source": [
    "### Standardising the data"
   ],
   "metadata": {
    "id": "6XTV9iyYsJfz"
   }
  },
  {
   "cell_type": "code",
   "execution_count": 17,
   "source": [
    "from sklearn.preprocessing import StandardScaler\n",
    "sc = StandardScaler()\n",
    "X_trainSd = sc.fit_transform(X_train)\n",
    "X_testSd = sc.transform(X_test)"
   ],
   "outputs": [],
   "metadata": {
    "executionInfo": {
     "elapsed": 98,
     "status": "ok",
     "timestamp": 1627062106215,
     "user": {
      "displayName": "Rahul Singha",
      "photoUrl": "https://lh3.googleusercontent.com/a-/AOh14GhwJ99Wsw26onDpMVUm1_LDkvGnCFvJtdL3lqWp3g=s64",
      "userId": "03623122824035689120"
     },
     "user_tz": -330
    },
    "id": "o5bJmffnsIQO"
   }
  },
  {
   "cell_type": "markdown",
   "source": [
    "### KNN Classifier"
   ],
   "metadata": {
    "id": "HI9B5hKPpCQv"
   }
  },
  {
   "cell_type": "code",
   "execution_count": 18,
   "source": [
    "from sklearn.neighbors import KNeighborsClassifier\n",
    "knnc = KNeighborsClassifier(n_neighbors = 5, metric = 'minkowski', p = 2)\n",
    "knnc.fit(X_trainSd, y_train)"
   ],
   "outputs": [
    {
     "output_type": "execute_result",
     "data": {
      "text/plain": [
       "KNeighborsClassifier()"
      ]
     },
     "metadata": {},
     "execution_count": 18
    }
   ],
   "metadata": {
    "colab": {
     "base_uri": "https://localhost:8080/"
    },
    "executionInfo": {
     "elapsed": 97,
     "status": "ok",
     "timestamp": 1627062106215,
     "user": {
      "displayName": "Rahul Singha",
      "photoUrl": "https://lh3.googleusercontent.com/a-/AOh14GhwJ99Wsw26onDpMVUm1_LDkvGnCFvJtdL3lqWp3g=s64",
      "userId": "03623122824035689120"
     },
     "user_tz": -330
    },
    "id": "ZGFgO80mmClB",
    "outputId": "d661aa09-26ab-4107-8e15-fa85f76cdbf9"
   }
  },
  {
   "cell_type": "code",
   "execution_count": 19,
   "source": [
    "y_pred1 = knnc.predict(X_testSd)\n",
    "print(np.concatenate((y_pred1.reshape(len(y_pred1),1), y_test.reshape(len(y_test),1)),1))"
   ],
   "outputs": [
    {
     "output_type": "stream",
     "name": "stdout",
     "text": [
      "[[0 0]\n",
      " [0 1]\n",
      " [0 0]\n",
      " [0 0]\n",
      " [0 1]\n",
      " [1 0]\n",
      " [0 0]\n",
      " [0 0]\n",
      " [0 0]\n",
      " [0 0]\n",
      " [1 1]\n",
      " [1 1]\n",
      " [0 0]\n",
      " [1 1]\n",
      " [1 1]\n",
      " [1 1]\n",
      " [0 1]\n",
      " [1 1]\n",
      " [0 0]\n",
      " [1 1]\n",
      " [1 1]\n",
      " [1 0]\n",
      " [0 0]\n",
      " [0 0]\n",
      " [1 1]\n",
      " [1 0]\n",
      " [0 0]\n",
      " [0 0]\n",
      " [1 1]\n",
      " [1 1]\n",
      " [0 0]\n",
      " [0 0]\n",
      " [1 1]\n",
      " [1 1]\n",
      " [1 1]\n",
      " [0 0]\n",
      " [0 0]\n",
      " [1 1]\n",
      " [0 0]\n",
      " [1 0]\n",
      " [1 1]\n",
      " [1 1]\n",
      " [1 1]\n",
      " [0 0]\n",
      " [1 1]\n",
      " [0 1]\n",
      " [1 1]\n",
      " [1 0]\n",
      " [0 0]\n",
      " [1 1]\n",
      " [1 1]\n",
      " [0 1]\n",
      " [1 1]\n",
      " [1 1]\n",
      " [1 1]\n",
      " [0 0]\n",
      " [1 1]\n",
      " [1 0]\n",
      " [1 1]\n",
      " [1 1]\n",
      " [1 1]]\n"
     ]
    }
   ],
   "metadata": {
    "colab": {
     "base_uri": "https://localhost:8080/"
    },
    "executionInfo": {
     "elapsed": 82,
     "status": "ok",
     "timestamp": 1627062106215,
     "user": {
      "displayName": "Rahul Singha",
      "photoUrl": "https://lh3.googleusercontent.com/a-/AOh14GhwJ99Wsw26onDpMVUm1_LDkvGnCFvJtdL3lqWp3g=s64",
      "userId": "03623122824035689120"
     },
     "user_tz": -330
    },
    "id": "oeb_67uVmUe2",
    "outputId": "9853a35f-d453-4599-e502-3c6b81addcb1"
   }
  },
  {
   "cell_type": "code",
   "execution_count": 20,
   "source": [
    "from sklearn.metrics import confusion_matrix, accuracy_score\n",
    "cm = confusion_matrix(y_test, y_pred1)\n",
    "print(cm)\n",
    "accuracy_score(y_test, y_pred1)"
   ],
   "outputs": [
    {
     "output_type": "stream",
     "name": "stdout",
     "text": [
      "[[21  6]\n",
      " [ 5 29]]\n"
     ]
    },
    {
     "output_type": "execute_result",
     "data": {
      "text/plain": [
       "0.819672131147541"
      ]
     },
     "metadata": {},
     "execution_count": 20
    }
   ],
   "metadata": {
    "colab": {
     "base_uri": "https://localhost:8080/"
    },
    "executionInfo": {
     "elapsed": 72,
     "status": "ok",
     "timestamp": 1627062106215,
     "user": {
      "displayName": "Rahul Singha",
      "photoUrl": "https://lh3.googleusercontent.com/a-/AOh14GhwJ99Wsw26onDpMVUm1_LDkvGnCFvJtdL3lqWp3g=s64",
      "userId": "03623122824035689120"
     },
     "user_tz": -330
    },
    "id": "vtMz6l8qmUoX",
    "outputId": "dc8bba20-3e6f-4099-f991-c6ecbbce15fb"
   }
  },
  {
   "cell_type": "markdown",
   "source": [
    "### SVM Model"
   ],
   "metadata": {
    "id": "Nqfg_vDUtL3W"
   }
  },
  {
   "cell_type": "code",
   "execution_count": 21,
   "source": [
    "from sklearn.svm import SVC\n",
    "SVMc = SVC(kernel = 'linear', random_state = 0)\n",
    "SVMc.fit(X_trainSd, y_train)"
   ],
   "outputs": [
    {
     "output_type": "execute_result",
     "data": {
      "text/plain": [
       "SVC(kernel='linear', random_state=0)"
      ]
     },
     "metadata": {},
     "execution_count": 21
    }
   ],
   "metadata": {
    "colab": {
     "base_uri": "https://localhost:8080/"
    },
    "executionInfo": {
     "elapsed": 61,
     "status": "ok",
     "timestamp": 1627062106215,
     "user": {
      "displayName": "Rahul Singha",
      "photoUrl": "https://lh3.googleusercontent.com/a-/AOh14GhwJ99Wsw26onDpMVUm1_LDkvGnCFvJtdL3lqWp3g=s64",
      "userId": "03623122824035689120"
     },
     "user_tz": -330
    },
    "id": "IxPKNTzxtO1Y",
    "outputId": "4a11b1cc-4258-42d5-a5a9-e4a004595a42"
   }
  },
  {
   "cell_type": "code",
   "execution_count": 22,
   "source": [
    "y_pred2 = SVMc.predict(X_testSd)"
   ],
   "outputs": [],
   "metadata": {
    "executionInfo": {
     "elapsed": 53,
     "status": "ok",
     "timestamp": 1627062106215,
     "user": {
      "displayName": "Rahul Singha",
      "photoUrl": "https://lh3.googleusercontent.com/a-/AOh14GhwJ99Wsw26onDpMVUm1_LDkvGnCFvJtdL3lqWp3g=s64",
      "userId": "03623122824035689120"
     },
     "user_tz": -330
    },
    "id": "Gq_PTZcjujCg"
   }
  },
  {
   "cell_type": "code",
   "execution_count": 23,
   "source": [
    "cm = confusion_matrix(y_test, y_pred2)\n",
    "print(cm)\n",
    "accuracy_score(y_test, y_pred2)"
   ],
   "outputs": [
    {
     "output_type": "stream",
     "name": "stdout",
     "text": [
      "[[20  7]\n",
      " [ 4 30]]\n"
     ]
    },
    {
     "output_type": "execute_result",
     "data": {
      "text/plain": [
       "0.819672131147541"
      ]
     },
     "metadata": {},
     "execution_count": 23
    }
   ],
   "metadata": {
    "colab": {
     "base_uri": "https://localhost:8080/"
    },
    "executionInfo": {
     "elapsed": 53,
     "status": "ok",
     "timestamp": 1627062106215,
     "user": {
      "displayName": "Rahul Singha",
      "photoUrl": "https://lh3.googleusercontent.com/a-/AOh14GhwJ99Wsw26onDpMVUm1_LDkvGnCFvJtdL3lqWp3g=s64",
      "userId": "03623122824035689120"
     },
     "user_tz": -330
    },
    "id": "PxoWKHNoutJH",
    "outputId": "e6bd8f76-43e1-41ad-a3ad-c668354ab85a"
   }
  },
  {
   "cell_type": "markdown",
   "source": [
    "## Decision Tree Classifier"
   ],
   "metadata": {
    "id": "sJobLHbkuvF4"
   }
  },
  {
   "cell_type": "code",
   "execution_count": 24,
   "source": [
    "from sklearn.tree import DecisionTreeClassifier\n",
    "DTC = DecisionTreeClassifier(criterion = 'entropy', random_state = 0)\n",
    "DTC.fit(X_train, y_train)"
   ],
   "outputs": [
    {
     "output_type": "execute_result",
     "data": {
      "text/plain": [
       "DecisionTreeClassifier(criterion='entropy', random_state=0)"
      ]
     },
     "metadata": {},
     "execution_count": 24
    }
   ],
   "metadata": {
    "colab": {
     "base_uri": "https://localhost:8080/"
    },
    "executionInfo": {
     "elapsed": 46,
     "status": "ok",
     "timestamp": 1627062106216,
     "user": {
      "displayName": "Rahul Singha",
      "photoUrl": "https://lh3.googleusercontent.com/a-/AOh14GhwJ99Wsw26onDpMVUm1_LDkvGnCFvJtdL3lqWp3g=s64",
      "userId": "03623122824035689120"
     },
     "user_tz": -330
    },
    "id": "QmC_bFbDvYAV",
    "outputId": "b1022b13-6b96-4119-d39c-db1e8734063f"
   }
  },
  {
   "cell_type": "code",
   "execution_count": 25,
   "source": [
    "y_pred3 = DTC.predict(X_test)"
   ],
   "outputs": [],
   "metadata": {
    "executionInfo": {
     "elapsed": 40,
     "status": "ok",
     "timestamp": 1627062106216,
     "user": {
      "displayName": "Rahul Singha",
      "photoUrl": "https://lh3.googleusercontent.com/a-/AOh14GhwJ99Wsw26onDpMVUm1_LDkvGnCFvJtdL3lqWp3g=s64",
      "userId": "03623122824035689120"
     },
     "user_tz": -330
    },
    "id": "fCc5ZqBqvYD6"
   }
  },
  {
   "cell_type": "code",
   "execution_count": 26,
   "source": [
    "cm = confusion_matrix(y_test, y_pred3)\n",
    "print(cm)\n",
    "accuracy_score(y_test, y_pred3)"
   ],
   "outputs": [
    {
     "output_type": "stream",
     "name": "stdout",
     "text": [
      "[[22  5]\n",
      " [ 7 27]]\n"
     ]
    },
    {
     "output_type": "execute_result",
     "data": {
      "text/plain": [
       "0.8032786885245902"
      ]
     },
     "metadata": {},
     "execution_count": 26
    }
   ],
   "metadata": {
    "colab": {
     "base_uri": "https://localhost:8080/"
    },
    "executionInfo": {
     "elapsed": 40,
     "status": "ok",
     "timestamp": 1627062106216,
     "user": {
      "displayName": "Rahul Singha",
      "photoUrl": "https://lh3.googleusercontent.com/a-/AOh14GhwJ99Wsw26onDpMVUm1_LDkvGnCFvJtdL3lqWp3g=s64",
      "userId": "03623122824035689120"
     },
     "user_tz": -330
    },
    "id": "Dkhy3aRnvYOk",
    "outputId": "66b9a493-99b1-4c3e-98f6-2ac1e8ffa2e5"
   }
  },
  {
   "cell_type": "markdown",
   "source": [
    "## Random Forest Classifier"
   ],
   "metadata": {
    "id": "BXugzQ9LwRfT"
   }
  },
  {
   "cell_type": "code",
   "execution_count": 27,
   "source": [
    "from sklearn.ensemble import RandomForestClassifier\n",
    "RFC = RandomForestClassifier(n_estimators = 10, criterion = 'entropy', random_state = 0)\n",
    "RFC.fit(X_train, y_train)"
   ],
   "outputs": [
    {
     "output_type": "execute_result",
     "data": {
      "text/plain": [
       "RandomForestClassifier(criterion='entropy', n_estimators=10, random_state=0)"
      ]
     },
     "metadata": {},
     "execution_count": 27
    }
   ],
   "metadata": {
    "colab": {
     "base_uri": "https://localhost:8080/"
    },
    "executionInfo": {
     "elapsed": 33,
     "status": "ok",
     "timestamp": 1627062106216,
     "user": {
      "displayName": "Rahul Singha",
      "photoUrl": "https://lh3.googleusercontent.com/a-/AOh14GhwJ99Wsw26onDpMVUm1_LDkvGnCFvJtdL3lqWp3g=s64",
      "userId": "03623122824035689120"
     },
     "user_tz": -330
    },
    "id": "qpZopyD2j2ey",
    "outputId": "a79b9072-a9bb-49e7-e05b-0ad57ea13655"
   }
  },
  {
   "cell_type": "code",
   "execution_count": 28,
   "source": [
    "y_pred4 = RFC.predict(X_test)"
   ],
   "outputs": [],
   "metadata": {
    "executionInfo": {
     "elapsed": 28,
     "status": "ok",
     "timestamp": 1627062106216,
     "user": {
      "displayName": "Rahul Singha",
      "photoUrl": "https://lh3.googleusercontent.com/a-/AOh14GhwJ99Wsw26onDpMVUm1_LDkvGnCFvJtdL3lqWp3g=s64",
      "userId": "03623122824035689120"
     },
     "user_tz": -330
    },
    "id": "zeqvAEgvkVox"
   }
  },
  {
   "cell_type": "code",
   "execution_count": 29,
   "source": [
    "cm = confusion_matrix(y_test, y_pred4)\n",
    "print(cm)\n",
    "accuracy_score(y_test, y_pred4)"
   ],
   "outputs": [
    {
     "output_type": "stream",
     "name": "stdout",
     "text": [
      "[[23  4]\n",
      " [ 5 29]]\n"
     ]
    },
    {
     "output_type": "execute_result",
     "data": {
      "text/plain": [
       "0.8524590163934426"
      ]
     },
     "metadata": {},
     "execution_count": 29
    }
   ],
   "metadata": {
    "colab": {
     "base_uri": "https://localhost:8080/"
    },
    "executionInfo": {
     "elapsed": 28,
     "status": "ok",
     "timestamp": 1627062106216,
     "user": {
      "displayName": "Rahul Singha",
      "photoUrl": "https://lh3.googleusercontent.com/a-/AOh14GhwJ99Wsw26onDpMVUm1_LDkvGnCFvJtdL3lqWp3g=s64",
      "userId": "03623122824035689120"
     },
     "user_tz": -330
    },
    "id": "nuWVjc2Pkadz",
    "outputId": "02a940da-fa55-4d35-a4f7-e936ce85a30c"
   }
  },
  {
   "cell_type": "markdown",
   "source": [
    "## XGBoost Classifier"
   ],
   "metadata": {
    "id": "Lt2_0T5DwpSI"
   }
  },
  {
   "cell_type": "code",
   "execution_count": 30,
   "source": [
    "from xgboost import XGBClassifier\n",
    "XGBc = XGBClassifier()\n",
    "XGBc.fit(X_train, y_train)"
   ],
   "outputs": [
    {
     "output_type": "stream",
     "name": "stdout",
     "text": [
      "[07:58:50] WARNING: /opt/concourse/worker/volumes/live/7a2b9f41-3287-451b-6691-43e9a6c0910f/volume/xgboost-split_1619728204606/work/src/learner.cc:1061: Starting in XGBoost 1.3.0, the default evaluation metric used with the objective 'binary:logistic' was changed from 'error' to 'logloss'. Explicitly set eval_metric if you'd like to restore the old behavior.\n"
     ]
    },
    {
     "output_type": "stream",
     "name": "stderr",
     "text": [
      "/Users/mkg47/opt/anaconda3/lib/python3.8/site-packages/xgboost/sklearn.py:888: UserWarning: The use of label encoder in XGBClassifier is deprecated and will be removed in a future release. To remove this warning, do the following: 1) Pass option use_label_encoder=False when constructing XGBClassifier object; and 2) Encode your labels (y) as integers starting with 0, i.e. 0, 1, 2, ..., [num_class - 1].\n",
      "  warnings.warn(label_encoder_deprecation_msg, UserWarning)\n"
     ]
    },
    {
     "output_type": "execute_result",
     "data": {
      "text/plain": [
       "XGBClassifier(base_score=0.5, booster='gbtree', colsample_bylevel=1,\n",
       "              colsample_bynode=1, colsample_bytree=1, gamma=0, gpu_id=-1,\n",
       "              importance_type='gain', interaction_constraints='',\n",
       "              learning_rate=0.300000012, max_delta_step=0, max_depth=6,\n",
       "              min_child_weight=1, missing=nan, monotone_constraints='()',\n",
       "              n_estimators=100, n_jobs=8, num_parallel_tree=1, random_state=0,\n",
       "              reg_alpha=0, reg_lambda=1, scale_pos_weight=1, subsample=1,\n",
       "              tree_method='exact', validate_parameters=1, verbosity=None)"
      ]
     },
     "metadata": {},
     "execution_count": 30
    }
   ],
   "metadata": {
    "colab": {
     "base_uri": "https://localhost:8080/"
    },
    "executionInfo": {
     "elapsed": 722,
     "status": "ok",
     "timestamp": 1627062106916,
     "user": {
      "displayName": "Rahul Singha",
      "photoUrl": "https://lh3.googleusercontent.com/a-/AOh14GhwJ99Wsw26onDpMVUm1_LDkvGnCFvJtdL3lqWp3g=s64",
      "userId": "03623122824035689120"
     },
     "user_tz": -330
    },
    "id": "uJTBgwz3kdpR",
    "outputId": "19cc6d6b-4e3a-4b2a-e3e7-4f2483c1a6f2"
   }
  },
  {
   "cell_type": "code",
   "execution_count": 31,
   "source": [
    "y_pred5 = XGBc.predict(X_test)\n",
    "cm = confusion_matrix(y_test, y_pred5)\n",
    "print(cm)\n",
    "accuracy_score(y_test, y_pred5)"
   ],
   "outputs": [
    {
     "output_type": "stream",
     "name": "stdout",
     "text": [
      "[[21  6]\n",
      " [ 7 27]]\n"
     ]
    },
    {
     "output_type": "execute_result",
     "data": {
      "text/plain": [
       "0.7868852459016393"
      ]
     },
     "metadata": {},
     "execution_count": 31
    }
   ],
   "metadata": {
    "colab": {
     "base_uri": "https://localhost:8080/"
    },
    "executionInfo": {
     "elapsed": 29,
     "status": "ok",
     "timestamp": 1627062106917,
     "user": {
      "displayName": "Rahul Singha",
      "photoUrl": "https://lh3.googleusercontent.com/a-/AOh14GhwJ99Wsw26onDpMVUm1_LDkvGnCFvJtdL3lqWp3g=s64",
      "userId": "03623122824035689120"
     },
     "user_tz": -330
    },
    "id": "noxclEfCk1VH",
    "outputId": "4eae501e-d416-4913-d7b8-cd3cc45ebacc"
   }
  },
  {
   "cell_type": "markdown",
   "source": [
    "# We will be ensembling to get more precise result. Therefore, all te models are trained on the whole dataset"
   ],
   "metadata": {
    "id": "OEWYrShXNjQ2"
   }
  },
  {
   "cell_type": "markdown",
   "source": [
    "# Ensembling"
   ],
   "metadata": {
    "id": "Cvv8HZjuiRpA"
   }
  },
  {
   "cell_type": "markdown",
   "source": [
    "## Combining the results of all the models to get the output\n"
   ],
   "metadata": {
    "id": "KXHLONkhiMP9"
   }
  },
  {
   "cell_type": "code",
   "execution_count": 32,
   "source": [
    "yavg=[]\n",
    "for i in range(len(y_pred1)):\n",
    "  temp=y_pred1[i]+y_pred2[i]+y_pred3[i]+y_pred4[i]+y_pred5[i]\n",
    "  temp=temp/5\n",
    "  if temp>=0.5:\n",
    "    yavg.append(1)\n",
    "  else:\n",
    "    yavg.append(0)\n"
   ],
   "outputs": [],
   "metadata": {
    "executionInfo": {
     "elapsed": 18,
     "status": "ok",
     "timestamp": 1627062106917,
     "user": {
      "displayName": "Rahul Singha",
      "photoUrl": "https://lh3.googleusercontent.com/a-/AOh14GhwJ99Wsw26onDpMVUm1_LDkvGnCFvJtdL3lqWp3g=s64",
      "userId": "03623122824035689120"
     },
     "user_tz": -330
    },
    "id": "BTcPFu0_h4gk"
   }
  },
  {
   "cell_type": "code",
   "execution_count": 33,
   "source": [
    "cm = confusion_matrix(y_test, yavg)\n",
    "print(cm)\n",
    "accuracy_score(y_test, yavg)"
   ],
   "outputs": [
    {
     "output_type": "stream",
     "name": "stdout",
     "text": [
      "[[21  6]\n",
      " [ 4 30]]\n"
     ]
    },
    {
     "output_type": "execute_result",
     "data": {
      "text/plain": [
       "0.8360655737704918"
      ]
     },
     "metadata": {},
     "execution_count": 33
    }
   ],
   "metadata": {
    "colab": {
     "base_uri": "https://localhost:8080/"
    },
    "executionInfo": {
     "elapsed": 18,
     "status": "ok",
     "timestamp": 1627062106917,
     "user": {
      "displayName": "Rahul Singha",
      "photoUrl": "https://lh3.googleusercontent.com/a-/AOh14GhwJ99Wsw26onDpMVUm1_LDkvGnCFvJtdL3lqWp3g=s64",
      "userId": "03623122824035689120"
     },
     "user_tz": -330
    },
    "id": "ZqvstQ54h-HS",
    "outputId": "a4f1d3cf-4c19-4e37-f15a-399d73c05b26"
   }
  },
  {
   "cell_type": "markdown",
   "source": [
    "# Creating and Saving the Final Model for hosting in Heroku "
   ],
   "metadata": {
    "id": "OXM7ViaOikSO"
   }
  },
  {
   "cell_type": "markdown",
   "source": [
    "### Training KNN Classifier on the whole dataset"
   ],
   "metadata": {
    "id": "F02bwDar4IU1"
   }
  },
  {
   "cell_type": "code",
   "execution_count": 34,
   "source": [
    "from sklearn.neighbors import KNeighborsClassifier\n",
    "finalmodel1 = KNeighborsClassifier(n_neighbors = 5, metric = 'minkowski', p = 2)\n",
    "finalmodel1.fit(X, y)"
   ],
   "outputs": [
    {
     "output_type": "execute_result",
     "data": {
      "text/plain": [
       "KNeighborsClassifier()"
      ]
     },
     "metadata": {},
     "execution_count": 34
    }
   ],
   "metadata": {
    "colab": {
     "base_uri": "https://localhost:8080/"
    },
    "executionInfo": {
     "elapsed": 11,
     "status": "ok",
     "timestamp": 1627062106917,
     "user": {
      "displayName": "Rahul Singha",
      "photoUrl": "https://lh3.googleusercontent.com/a-/AOh14GhwJ99Wsw26onDpMVUm1_LDkvGnCFvJtdL3lqWp3g=s64",
      "userId": "03623122824035689120"
     },
     "user_tz": -330
    },
    "id": "jlSagfRD4RTf",
    "outputId": "ee25fc14-aac0-4a22-fd4d-16398832a3e4"
   }
  },
  {
   "cell_type": "markdown",
   "source": [
    "### Training SVM Classifier on the whole dataset"
   ],
   "metadata": {
    "id": "99fefxp34kmJ"
   }
  },
  {
   "cell_type": "code",
   "execution_count": 35,
   "source": [
    "from sklearn.svm import SVC\n",
    "finalmodel2 = SVC(kernel = 'linear', random_state = 0)\n",
    "finalmodel2.fit(X, y)"
   ],
   "outputs": [
    {
     "output_type": "execute_result",
     "data": {
      "text/plain": [
       "SVC(kernel='linear', random_state=0)"
      ]
     },
     "metadata": {},
     "execution_count": 35
    }
   ],
   "metadata": {
    "colab": {
     "base_uri": "https://localhost:8080/"
    },
    "executionInfo": {
     "elapsed": 576,
     "status": "ok",
     "timestamp": 1627062107489,
     "user": {
      "displayName": "Rahul Singha",
      "photoUrl": "https://lh3.googleusercontent.com/a-/AOh14GhwJ99Wsw26onDpMVUm1_LDkvGnCFvJtdL3lqWp3g=s64",
      "userId": "03623122824035689120"
     },
     "user_tz": -330
    },
    "id": "lUYIBz60EO6h",
    "outputId": "11e2e85a-bf6b-463e-d6af-0f8c4ad34365"
   }
  },
  {
   "cell_type": "markdown",
   "source": [
    " ### Training Decision Tree Classifier on the whole dataset"
   ],
   "metadata": {
    "id": "YaKoNZ0vEhAo"
   }
  },
  {
   "cell_type": "code",
   "execution_count": 36,
   "source": [
    "from sklearn.tree import DecisionTreeClassifier\n",
    "finalmodel3 = DecisionTreeClassifier(criterion = 'entropy', random_state = 0)\n",
    "finalmodel3.fit(X, y)"
   ],
   "outputs": [
    {
     "output_type": "execute_result",
     "data": {
      "text/plain": [
       "DecisionTreeClassifier(criterion='entropy', random_state=0)"
      ]
     },
     "metadata": {},
     "execution_count": 36
    }
   ],
   "metadata": {
    "colab": {
     "base_uri": "https://localhost:8080/"
    },
    "executionInfo": {
     "elapsed": 23,
     "status": "ok",
     "timestamp": 1627062107489,
     "user": {
      "displayName": "Rahul Singha",
      "photoUrl": "https://lh3.googleusercontent.com/a-/AOh14GhwJ99Wsw26onDpMVUm1_LDkvGnCFvJtdL3lqWp3g=s64",
      "userId": "03623122824035689120"
     },
     "user_tz": -330
    },
    "id": "0nH_04KiEqNE",
    "outputId": "89c4188b-d675-466e-94d0-cf3bb765584a"
   }
  },
  {
   "cell_type": "markdown",
   "source": [
    "### Training Random Forest Classifier on the whole dataset\n"
   ],
   "metadata": {
    "id": "v5Gsj-4EyYLp"
   }
  },
  {
   "cell_type": "code",
   "execution_count": 37,
   "source": [
    "from sklearn.ensemble import RandomForestClassifier\n",
    "finalmodel4 = RandomForestClassifier(n_estimators = 10, criterion = 'entropy', random_state = 0)\n",
    "finalmodel4.fit(X, y)"
   ],
   "outputs": [
    {
     "output_type": "execute_result",
     "data": {
      "text/plain": [
       "RandomForestClassifier(criterion='entropy', n_estimators=10, random_state=0)"
      ]
     },
     "metadata": {},
     "execution_count": 37
    }
   ],
   "metadata": {
    "colab": {
     "base_uri": "https://localhost:8080/"
    },
    "executionInfo": {
     "elapsed": 15,
     "status": "ok",
     "timestamp": 1627062107489,
     "user": {
      "displayName": "Rahul Singha",
      "photoUrl": "https://lh3.googleusercontent.com/a-/AOh14GhwJ99Wsw26onDpMVUm1_LDkvGnCFvJtdL3lqWp3g=s64",
      "userId": "03623122824035689120"
     },
     "user_tz": -330
    },
    "id": "Jn1EeSDPyaoy",
    "outputId": "f4ec729a-3143-4341-c0b7-4309a912d8d2"
   }
  },
  {
   "cell_type": "markdown",
   "source": [
    "### Training XGBoost Classifier on the whole dataset"
   ],
   "metadata": {
    "id": "UYaV8t37FOR7"
   }
  },
  {
   "cell_type": "code",
   "execution_count": 38,
   "source": [
    "from xgboost import XGBClassifier\n",
    "finalmodel5 = XGBClassifier()\n",
    "finalmodel5.fit(X, y)"
   ],
   "outputs": [
    {
     "output_type": "stream",
     "name": "stdout",
     "text": [
      "[07:58:51] WARNING: /opt/concourse/worker/volumes/live/7a2b9f41-3287-451b-6691-43e9a6c0910f/volume/xgboost-split_1619728204606/work/src/learner.cc:1061: Starting in XGBoost 1.3.0, the default evaluation metric used with the objective 'binary:logistic' was changed from 'error' to 'logloss'. Explicitly set eval_metric if you'd like to restore the old behavior.\n"
     ]
    },
    {
     "output_type": "stream",
     "name": "stderr",
     "text": [
      "/Users/mkg47/opt/anaconda3/lib/python3.8/site-packages/xgboost/sklearn.py:888: UserWarning: The use of label encoder in XGBClassifier is deprecated and will be removed in a future release. To remove this warning, do the following: 1) Pass option use_label_encoder=False when constructing XGBClassifier object; and 2) Encode your labels (y) as integers starting with 0, i.e. 0, 1, 2, ..., [num_class - 1].\n",
      "  warnings.warn(label_encoder_deprecation_msg, UserWarning)\n"
     ]
    },
    {
     "output_type": "execute_result",
     "data": {
      "text/plain": [
       "XGBClassifier(base_score=0.5, booster='gbtree', colsample_bylevel=1,\n",
       "              colsample_bynode=1, colsample_bytree=1, gamma=0, gpu_id=-1,\n",
       "              importance_type='gain', interaction_constraints='',\n",
       "              learning_rate=0.300000012, max_delta_step=0, max_depth=6,\n",
       "              min_child_weight=1, missing=nan, monotone_constraints='()',\n",
       "              n_estimators=100, n_jobs=8, num_parallel_tree=1, random_state=0,\n",
       "              reg_alpha=0, reg_lambda=1, scale_pos_weight=1, subsample=1,\n",
       "              tree_method='exact', validate_parameters=1, verbosity=None)"
      ]
     },
     "metadata": {},
     "execution_count": 38
    }
   ],
   "metadata": {
    "colab": {
     "base_uri": "https://localhost:8080/"
    },
    "executionInfo": {
     "elapsed": 10,
     "status": "ok",
     "timestamp": 1627062107489,
     "user": {
      "displayName": "Rahul Singha",
      "photoUrl": "https://lh3.googleusercontent.com/a-/AOh14GhwJ99Wsw26onDpMVUm1_LDkvGnCFvJtdL3lqWp3g=s64",
      "userId": "03623122824035689120"
     },
     "user_tz": -330
    },
    "id": "-mlESl39FVpN",
    "outputId": "0a7941f5-f6b0-4251-a654-a99b72bce9e2"
   }
  },
  {
   "cell_type": "code",
   "execution_count": 39,
   "source": [
    "import pickle\n",
    "filename = 'model1.pkl'\n",
    "pickle.dump(finalmodel1, open(filename, 'wb'))"
   ],
   "outputs": [],
   "metadata": {}
  },
  {
   "cell_type": "code",
   "execution_count": 40,
   "source": [
    "filename = 'model2.pkl'\n",
    "pickle.dump(finalmodel2, open(filename, 'wb'))"
   ],
   "outputs": [],
   "metadata": {}
  },
  {
   "cell_type": "code",
   "execution_count": 41,
   "source": [
    "filename = 'model3.pkl'\n",
    "pickle.dump(finalmodel3, open(filename, 'wb'))"
   ],
   "outputs": [],
   "metadata": {}
  },
  {
   "cell_type": "code",
   "execution_count": 42,
   "source": [
    "filename = 'model4.pkl'\n",
    "pickle.dump(finalmodel4, open(filename, 'wb'))"
   ],
   "outputs": [],
   "metadata": {}
  },
  {
   "cell_type": "code",
   "execution_count": 43,
   "source": [
    "filename = 'model5.pkl'\n",
    "pickle.dump(finalmodel5, open(filename, 'wb'))"
   ],
   "outputs": [],
   "metadata": {
    "executionInfo": {
     "elapsed": 6,
     "status": "ok",
     "timestamp": 1627062107490,
     "user": {
      "displayName": "Rahul Singha",
      "photoUrl": "https://lh3.googleusercontent.com/a-/AOh14GhwJ99Wsw26onDpMVUm1_LDkvGnCFvJtdL3lqWp3g=s64",
      "userId": "03623122824035689120"
     },
     "user_tz": -330
    },
    "id": "ItZTWy6SdKxH"
   }
  },
  {
   "cell_type": "code",
   "execution_count": 44,
   "source": [
    "filename = 'standard.pkl'\n",
    "pickle.dump(sc, open(filename, 'wb'))\n"
   ],
   "outputs": [],
   "metadata": {}
  }
 ],
 "metadata": {
  "colab": {
   "collapsed_sections": [],
   "name": "Heart Disease.ipynb",
   "provenance": []
  },
  "kernelspec": {
   "name": "python3",
   "display_name": "Python 3.8.8 64-bit ('base': conda)"
  },
  "language_info": {
   "codemirror_mode": {
    "name": "ipython",
    "version": 3
   },
   "file_extension": ".py",
   "mimetype": "text/x-python",
   "name": "python",
   "nbconvert_exporter": "python",
   "pygments_lexer": "ipython3",
   "version": "3.8.8"
  },
  "interpreter": {
   "hash": "07421de7a3616dde25dc35e9352062d5bcf2cde7c25872e690c6e70aa7de459a"
  }
 },
 "nbformat": 4,
 "nbformat_minor": 1
}